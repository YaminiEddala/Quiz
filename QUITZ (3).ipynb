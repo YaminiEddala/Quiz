{
  "nbformat": 4,
  "nbformat_minor": 0,
  "metadata": {
    "colab": {
      "provenance": []
    },
    "kernelspec": {
      "name": "python3",
      "display_name": "Python 3"
    },
    "language_info": {
      "name": "python"
    }
  },
  "cells": [
    {
      "cell_type": "markdown",
      "source": [
        "#Image Classification Task:\n",
        "• Load the MNIST dataset.\n",
        "• Build a simple convolutional neural network (CNN) using Keras Sequential model.\n",
        "• Train the CNN model on the MNIST dataset.\n",
        "• Evaluate the model's performance on a test set and report accuracy.\n",
        "• Use grid search to optimize hyperparameters such as learning rate, batch size, and\n",
        "optimizer choice.\n",
        "• Use Callback functions to automate training process like “ReduceLROnPlateau” and keep\n",
        "check on validation loss. Also use history object for result visualization.\n"
      ],
      "metadata": {
        "id": "trN3Vibr18eK"
      }
    },
    {
      "cell_type": "code",
      "execution_count": 2,
      "metadata": {
        "colab": {
          "base_uri": "https://localhost:8080/"
        },
        "id": "k3LKnWaf19sK",
        "outputId": "2fd4ce0e-dff0-4b69-89e9-7dce885f99a0"
      },
      "outputs": [
        {
          "output_type": "stream",
          "name": "stdout",
          "text": [
            "Downloading data from https://storage.googleapis.com/tensorflow/tf-keras-datasets/mnist.npz\n",
            "11490434/11490434 [==============================] - 0s 0us/step\n"
          ]
        }
      ],
      "source": [
        "from keras.datasets import mnist\n",
        "from tensorflow.keras.utils import to_categorical\n",
        "\n",
        "# Load data\n",
        "(X_train, y_train), (X_test, y_test) = mnist.load_data()\n",
        "\n",
        "# Reshape to [samples][width][height][channels]\n",
        "X_train = X_train.reshape((X_train.shape[0], 28, 28, 1)).astype('float32')\n",
        "X_test = X_test.reshape((X_test.shape[0], 28, 28, 1)).astype('float32')\n",
        "\n",
        "# Normalize from 0-255 to 0-1\n",
        "X_train /= 255\n",
        "X_test /= 255\n",
        "\n",
        "# One hot encode outputs\n",
        "y_train = to_categorical(y_train)\n",
        "y_test = to_categorical(y_test)\n",
        "num_classes = y_test.shape[1]\n"
      ]
    },
    {
      "cell_type": "code",
      "execution_count": 3,
      "metadata": {
        "id": "w0qCM71o1kV1"
      },
      "outputs": [],
      "source": [
        "from keras.models import Sequential\n",
        "from keras.layers import Dense, Conv2D, MaxPooling2D, Flatten\n",
        "\n",
        "model = Sequential()\n",
        "model.add(Conv2D(32, (5, 5), input_shape=(28, 28, 1), activation='relu'))\n",
        "model.add(MaxPooling2D(pool_size=(2, 2)))\n",
        "model.add(Flatten())\n",
        "model.add(Dense(128, activation='relu'))\n",
        "model.add(Dense(num_classes, activation='softmax'))\n",
        "\n",
        "# Compile model\n",
        "model.compile(loss='categorical_crossentropy', optimizer='adam', metrics=['accuracy'])\n"
      ]
    },
    {
      "cell_type": "code",
      "source": [
        "from keras.callbacks import ReduceLROnPlateau\n",
        "\n",
        "# Callbacks\n",
        "reduce_lr = ReduceLROnPlateau(monitor='val_loss', factor=0.2, patience=5, min_lr=0.001)\n",
        "\n",
        "# Train\n",
        "history = model.fit(X_train, y_train, validation_data=(X_test, y_test), epochs=10, batch_size=200, callbacks=[reduce_lr], verbose=2)\n"
      ],
      "metadata": {
        "colab": {
          "base_uri": "https://localhost:8080/"
        },
        "id": "kaeuVyhr2lAC",
        "outputId": "e572ea29-d8c8-4c75-f336-3135030452ef"
      },
      "execution_count": 4,
      "outputs": [
        {
          "output_type": "stream",
          "name": "stdout",
          "text": [
            "Epoch 1/10\n",
            "300/300 - 38s - loss: 0.2387 - accuracy: 0.9317 - val_loss: 0.0820 - val_accuracy: 0.9743 - lr: 0.0010 - 38s/epoch - 127ms/step\n",
            "Epoch 2/10\n",
            "300/300 - 41s - loss: 0.0667 - accuracy: 0.9807 - val_loss: 0.0575 - val_accuracy: 0.9811 - lr: 0.0010 - 41s/epoch - 136ms/step\n",
            "Epoch 3/10\n",
            "300/300 - 25s - loss: 0.0450 - accuracy: 0.9865 - val_loss: 0.0418 - val_accuracy: 0.9866 - lr: 0.0010 - 25s/epoch - 83ms/step\n",
            "Epoch 4/10\n",
            "300/300 - 25s - loss: 0.0343 - accuracy: 0.9897 - val_loss: 0.0380 - val_accuracy: 0.9876 - lr: 0.0010 - 25s/epoch - 84ms/step\n",
            "Epoch 5/10\n",
            "300/300 - 32s - loss: 0.0275 - accuracy: 0.9912 - val_loss: 0.0390 - val_accuracy: 0.9863 - lr: 0.0010 - 32s/epoch - 107ms/step\n",
            "Epoch 6/10\n",
            "300/300 - 28s - loss: 0.0215 - accuracy: 0.9935 - val_loss: 0.0356 - val_accuracy: 0.9881 - lr: 0.0010 - 28s/epoch - 95ms/step\n",
            "Epoch 7/10\n",
            "300/300 - 30s - loss: 0.0170 - accuracy: 0.9945 - val_loss: 0.0357 - val_accuracy: 0.9887 - lr: 0.0010 - 30s/epoch - 101ms/step\n",
            "Epoch 8/10\n",
            "300/300 - 25s - loss: 0.0139 - accuracy: 0.9958 - val_loss: 0.0331 - val_accuracy: 0.9900 - lr: 0.0010 - 25s/epoch - 84ms/step\n",
            "Epoch 9/10\n",
            "300/300 - 30s - loss: 0.0113 - accuracy: 0.9966 - val_loss: 0.0378 - val_accuracy: 0.9885 - lr: 0.0010 - 30s/epoch - 101ms/step\n",
            "Epoch 10/10\n",
            "300/300 - 26s - loss: 0.0080 - accuracy: 0.9979 - val_loss: 0.0383 - val_accuracy: 0.9894 - lr: 0.0010 - 26s/epoch - 87ms/step\n"
          ]
        }
      ]
    },
    {
      "cell_type": "code",
      "source": [
        "scores = model.evaluate(X_test, y_test, verbose=0)\n",
        "print(\"CNN Error: %.2f%%\" % (100-scores[1]*100))"
      ],
      "metadata": {
        "colab": {
          "base_uri": "https://localhost:8080/"
        },
        "id": "aofQyYK02m14",
        "outputId": "ed583dde-6026-47ca-adc2-d158f5a7f1ab"
      },
      "execution_count": 5,
      "outputs": [
        {
          "output_type": "stream",
          "name": "stdout",
          "text": [
            "CNN Error: 1.06%\n"
          ]
        }
      ]
    },
    {
      "cell_type": "code",
      "source": [
        "import numpy as np\n",
        "from tensorflow.keras.datasets import mnist\n",
        "from tensorflow.keras.models import Sequential\n",
        "from tensorflow.keras.layers import Dense, Conv2D, MaxPooling2D, Flatten\n",
        "from tensorflow.keras.utils import to_categorical\n",
        "from tensorflow.keras.optimizers import Adam\n",
        "import tensorflow as tf\n",
        "\n",
        "# Load and preprocess data\n",
        "(X_train, y_train), (X_test, y_test) = mnist.load_data()\n",
        "X_train = X_train.reshape((X_train.shape[0], 28, 28, 1)).astype('float32') / 255\n",
        "X_test = X_test.reshape((X_test.shape[0], 28, 28, 1)).astype('float32') / 255\n",
        "y_train = to_categorical(y_train)\n",
        "y_test = to_categorical(y_test)\n",
        "\n",
        "def build_model(learning_rate=0.001):\n",
        "    model = Sequential([\n",
        "        Conv2D(32, (5, 5), input_shape=(28, 28, 1), activation='relu'),\n",
        "        MaxPooling2D(pool_size=(2, 2)),\n",
        "        Flatten(),\n",
        "        Dense(128, activation='relu'),\n",
        "        Dense(10, activation='softmax')\n",
        "    ])\n",
        "    optimizer = Adam(learning_rate=learning_rate)\n",
        "    model.compile(optimizer=optimizer, loss='categorical_crossentropy', metrics=['accuracy'])\n",
        "    return model\n",
        "\n",
        "# Grid search settings\n",
        "learning_rates = [0.001, 0.0001]\n",
        "batch_sizes = [32, 64]\n",
        "\n",
        "# Grid search\n",
        "best_accuracy = 0\n",
        "best_lr = 0\n",
        "best_batch = 0\n",
        "\n",
        "for lr in learning_rates:\n",
        "    for batch_size in batch_sizes:\n",
        "        model = build_model(learning_rate=lr)\n",
        "        history = model.fit(X_train, y_train, validation_data=(X_test, y_test), epochs=5, batch_size=batch_size, verbose=0)\n",
        "        accuracy = np.max(history.history['val_accuracy'])\n",
        "        print(f\"LR={lr}, Batch={batch_size}, Val Accuracy={accuracy}\")\n",
        "\n",
        "        if accuracy > best_accuracy:\n",
        "            best_accuracy = accuracy\n",
        "            best_lr = lr\n",
        "            best_batch = batch_size\n",
        "\n",
        "print(f\"Best parameters: LR={best_lr}, Batch={best_batch}, with accuracy={best_accuracy}\")\n"
      ],
      "metadata": {
        "colab": {
          "base_uri": "https://localhost:8080/"
        },
        "id": "Onw_C5Id2p5t",
        "outputId": "141f4ce4-7e6b-4d51-c5a8-ce3e4051b7d8"
      },
      "execution_count": 6,
      "outputs": [
        {
          "output_type": "stream",
          "name": "stdout",
          "text": [
            "LR=0.001, Batch=32, Val Accuracy=0.988099992275238\n",
            "LR=0.001, Batch=64, Val Accuracy=0.9901999831199646\n",
            "LR=0.0001, Batch=32, Val Accuracy=0.9842000007629395\n",
            "LR=0.0001, Batch=64, Val Accuracy=0.9832000136375427\n",
            "Best parameters: LR=0.001, Batch=64, with accuracy=0.9901999831199646\n"
          ]
        }
      ]
    },
    {
      "cell_type": "code",
      "source": [
        "import matplotlib.pyplot as plt\n",
        "\n",
        "# Accuracy\n",
        "plt.plot(history.history['accuracy'])\n",
        "plt.plot(history.history['val_accuracy'])\n",
        "plt.title('Model Accuracy')\n",
        "plt.ylabel('Accuracy')\n",
        "plt.xlabel('Epoch')\n",
        "plt.legend(['Train', 'Test'], loc='upper left')\n",
        "plt.show()\n",
        "\n",
        "# Loss\n",
        "plt.plot(history.history['loss'])\n",
        "plt.plot(history.history['val_loss'])\n",
        "plt.title('Model Loss')\n",
        "plt.ylabel('Loss')\n",
        "plt.xlabel('Epoch')\n",
        "plt.legend(['Train', 'Test'], loc='upper left')\n",
        "plt.show()\n"
      ],
      "metadata": {
        "colab": {
          "base_uri": "https://localhost:8080/",
          "height": 927
        },
        "id": "vxxobSke2tCO",
        "outputId": "cddd7893-c6a0-42e0-8de8-83f7ff7f84e2"
      },
      "execution_count": 7,
      "outputs": [
        {
          "output_type": "display_data",
          "data": {
            "text/plain": [
              "<Figure size 640x480 with 1 Axes>"
            ],
            "image/png": "[encoded data removed]"
          },
          "metadata": {}
        },
        {
          "output_type": "display_data",
          "data": {
            "text/plain": [
              "<Figure size 640x480 with 1 Axes>"
            ],
            "image/png": "[encoded data removed]"
          },
          "metadata": {}
        }
      ]
    },
    {
      "cell_type": "markdown",
      "source": [
        "#Text Classification Task:\n",
        "* Load the IMDb movie reviews dataset.\n",
        "* Preprocess the text data (tokenization, padding).\n",
        "* Build a simple recurrent neural network (RNN) for text classification.\n",
        "* Train the RNN model on the IMDb dataset.\n",
        "* Evaluate the model's performance on a test set and report accuracy.\n",
        "* Use grid search to optimize hyperparameters such as learning rate, batch size, and\n",
        "optimizer choice.\n",
        "* Use Callback functions to automate training process like “ReduceLROnPlateau” and keep\n",
        "check on validation loss. Also use history object for result visualization."
      ],
      "metadata": {
        "id": "D8_y9XAB2wni"
      }
    },
    {
      "cell_type": "code",
      "source": [
        "from tensorflow.keras.datasets import imdb\n",
        "from tensorflow.keras.preprocessing.sequence import pad_sequences\n",
        "\n",
        "# Load dataset\n",
        "vocab_size = 10000  # Consider only the top 10,000 words in the dataset\n",
        "(x_train, y_train), (x_test, y_test) = imdb.load_data(num_words=vocab_size)\n",
        "\n",
        "# Inspect\n",
        "print(f\"Training samples: {len(x_train)}\")\n",
        "print(f\"Test samples: {len(x_test)}\")\n"
      ],
      "metadata": {
        "colab": {
          "base_uri": "https://localhost:8080/"
        },
        "id": "AYi4Mdt4243I",
        "outputId": "797e57c2-ceaa-4522-c69b-2c737c3707c3"
      },
      "execution_count": 8,
      "outputs": [
        {
          "output_type": "stream",
          "name": "stdout",
          "text": [
            "Downloading data from https://storage.googleapis.com/tensorflow/tf-keras-datasets/imdb.npz\n",
            "17464789/17464789 [==============================] - 0s 0us/step\n",
            "Training samples: 25000\n",
            "Test samples: 25000\n"
          ]
        }
      ]
    },
    {
      "cell_type": "code",
      "source": [
        "max_length = 500  # Maximum length of all sequences\n",
        "\n",
        "x_train = pad_sequences(x_train, maxlen=max_length)\n",
        "x_test = pad_sequences(x_test, maxlen=max_length)\n"
      ],
      "metadata": {
        "id": "MLg1B4qZ3H1P"
      },
      "execution_count": 9,
      "outputs": []
    },
    {
      "cell_type": "code",
      "source": [
        "from tensorflow.keras.models import Sequential\n",
        "from tensorflow.keras.layers import Embedding, SimpleRNN, Dense\n",
        "\n",
        "def build_rnn():\n",
        "    model = Sequential([\n",
        "        Embedding(input_dim=vocab_size, output_dim=32, input_length=max_length),\n",
        "        SimpleRNN(32),\n",
        "        Dense(1, activation='sigmoid')\n",
        "    ])\n",
        "\n",
        "    model.compile(optimizer='adam',\n",
        "                  loss='binary_crossentropy',\n",
        "                  metrics=['accuracy'])\n",
        "    return model\n",
        "\n",
        "model = build_rnn()\n",
        "model.summary()\n"
      ],
      "metadata": {
        "colab": {
          "base_uri": "https://localhost:8080/"
        },
        "id": "CMWj6wVF3NQt",
        "outputId": "e71d17ef-d472-4110-c635-f94af1306c9b"
      },
      "execution_count": 10,
      "outputs": [
        {
          "output_type": "stream",
          "name": "stdout",
          "text": [
            "Model: \"sequential_5\"\n",
            "_________________________________________________________________\n",
            " Layer (type)                Output Shape              Param #   \n",
            "=================================================================\n",
            " embedding (Embedding)       (None, 500, 32)           320000    \n",
            "                                                                 \n",
            " simple_rnn (SimpleRNN)      (None, 32)                2080      \n",
            "                                                                 \n",
            " dense_10 (Dense)            (None, 1)                 33        \n",
            "                                                                 \n",
            "=================================================================\n",
            "Total params: 322113 (1.23 MB)\n",
            "Trainable params: 322113 (1.23 MB)\n",
            "Non-trainable params: 0 (0.00 Byte)\n",
            "_________________________________________________________________\n"
          ]
        }
      ]
    },
    {
      "cell_type": "code",
      "source": [
        "history = model.fit(x_train, y_train,\n",
        "                    epochs=10,\n",
        "                    batch_size=128,\n",
        "                    validation_split=0.2)\n"
      ],
      "metadata": {
        "colab": {
          "base_uri": "https://localhost:8080/"
        },
        "id": "5Zikfp6B3P8T",
        "outputId": "40a424c6-e6ad-4cc2-9fca-ce3d8c53f36f"
      },
      "execution_count": 11,
      "outputs": [
        {
          "output_type": "stream",
          "name": "stdout",
          "text": [
            "Epoch 1/10\n",
            "157/157 [==============================] - 25s 152ms/step - loss: 0.6020 - accuracy: 0.6657 - val_loss: 0.4370 - val_accuracy: 0.8114\n",
            "Epoch 2/10\n",
            "157/157 [==============================] - 24s 151ms/step - loss: 0.3702 - accuracy: 0.8475 - val_loss: 0.3832 - val_accuracy: 0.8366\n",
            "Epoch 3/10\n",
            "157/157 [==============================] - 24s 151ms/step - loss: 0.2475 - accuracy: 0.9045 - val_loss: 0.3843 - val_accuracy: 0.8380\n",
            "Epoch 4/10\n",
            "157/157 [==============================] - 24s 151ms/step - loss: 0.1559 - accuracy: 0.9455 - val_loss: 0.3948 - val_accuracy: 0.8430\n",
            "Epoch 5/10\n",
            "157/157 [==============================] - 24s 151ms/step - loss: 0.0825 - accuracy: 0.9756 - val_loss: 0.4556 - val_accuracy: 0.8342\n",
            "Epoch 6/10\n",
            "157/157 [==============================] - 23s 145ms/step - loss: 0.0432 - accuracy: 0.9902 - val_loss: 0.5005 - val_accuracy: 0.8416\n",
            "Epoch 7/10\n",
            "157/157 [==============================] - 23s 149ms/step - loss: 0.0223 - accuracy: 0.9959 - val_loss: 0.5480 - val_accuracy: 0.8450\n",
            "Epoch 8/10\n",
            "157/157 [==============================] - 24s 151ms/step - loss: 0.0105 - accuracy: 0.9985 - val_loss: 0.5742 - val_accuracy: 0.8452\n",
            "Epoch 9/10\n",
            "157/157 [==============================] - 27s 170ms/step - loss: 0.0081 - accuracy: 0.9987 - val_loss: 0.6224 - val_accuracy: 0.8354\n",
            "Epoch 10/10\n",
            "157/157 [==============================] - 24s 150ms/step - loss: 0.2754 - accuracy: 0.8905 - val_loss: 0.5377 - val_accuracy: 0.8294\n"
          ]
        }
      ]
    },
    {
      "cell_type": "code",
      "source": [
        "from tensorflow.keras.models import Sequential\n",
        "from tensorflow.keras.layers import Embedding, SimpleRNN, Dense\n",
        "from tensorflow.keras.optimizers import Adam, SGD\n",
        "import numpy as np\n",
        "\n",
        "def build_rnn(optimizer='adam', learning_rate=0.001):\n",
        "    if optimizer == 'adam':\n",
        "        opt = Adam(learning_rate=learning_rate)\n",
        "    elif optimizer == 'sgd':\n",
        "        opt = SGD(learning_rate=learning_rate)\n",
        "    else:\n",
        "        raise ValueError(\"Unsupported optimizer\")\n",
        "\n",
        "    model = Sequential([\n",
        "        Embedding(input_dim=10000, output_dim=32, input_length=500),\n",
        "        SimpleRNN(32),\n",
        "        Dense(1, activation='sigmoid')\n",
        "    ])\n",
        "\n",
        "    model.compile(optimizer=opt, loss='binary_crossentropy', metrics=['accuracy'])\n",
        "    return model\n",
        "\n",
        "learning_rates = [0.001, 0.0001]\n",
        "batch_sizes = [64, 128]\n",
        "optimizers = ['adam', 'sgd']\n",
        "\n",
        "best_acc = 0\n",
        "best_params = {}\n",
        "\n",
        "for optimizer in optimizers:\n",
        "    for lr in learning_rates:\n",
        "        for batch_size in batch_sizes:\n",
        "            print(f\"Training with optimizer={optimizer}, learning_rate={lr}, batch_size={batch_size}\")\n",
        "            model = build_rnn(optimizer=optimizer, learning_rate=lr)\n",
        "            model.fit(x_train, y_train, epochs=3, batch_size=batch_size, validation_split=0.2, verbose=0)\n",
        "            loss, acc = model.evaluate(x_test, y_test, verbose=0)\n",
        "            print(f\"Accuracy: {acc}, Loss: {loss}\")\n",
        "\n",
        "            if acc > best_acc:\n",
        "                best_acc = acc\n",
        "                best_params = {'optimizer': optimizer, 'learning_rate': lr, 'batch_size': batch_size}\n",
        "\n",
        "print(f\"Best accuracy: {best_acc} with parameters {best_params}\")\n"
      ],
      "metadata": {
        "colab": {
          "base_uri": "https://localhost:8080/"
        },
        "id": "lYB2KH5o3mkM",
        "outputId": "eb78f6f8-74da-485d-c5ae-8d2cf88f8563"
      },
      "execution_count": null,
      "outputs": [
        {
          "output_type": "stream",
          "name": "stdout",
          "text": [
            "Training with optimizer=adam, learning_rate=0.001, batch_size=64\n",
            "Accuracy: 0.8517199754714966, Loss: 0.4046918451786041\n",
            "Training with optimizer=adam, learning_rate=0.001, batch_size=128\n",
            "Accuracy: 0.835319995880127, Loss: 0.40527573227882385\n",
            "Training with optimizer=adam, learning_rate=0.0001, batch_size=64\n",
            "Accuracy: 0.6943600177764893, Loss: 0.5941359996795654\n",
            "Training with optimizer=adam, learning_rate=0.0001, batch_size=128\n",
            "Accuracy: 0.5624799728393555, Loss: 0.6787932515144348\n",
            "Training with optimizer=sgd, learning_rate=0.001, batch_size=64\n"
          ]
        }
      ]
    },
    {
      "cell_type": "code",
      "source": [
        "test_loss, test_acc = model.evaluate(x_test, y_test)\n",
        "print(f'Test Accuracy: {test_acc:.4f}')\n"
      ],
      "metadata": {
        "colab": {
          "base_uri": "https://localhost:8080/"
        },
        "id": "bO50A_qy3RpB",
        "outputId": "b3a270c1-acbe-4baf-c5a5-0c6558334b15"
      },
      "execution_count": 12,
      "outputs": [
        {
          "output_type": "stream",
          "name": "stdout",
          "text": [
            "782/782 [==============================] - 23s 30ms/step - loss: 0.5620 - accuracy: 0.8220\n",
            "Test Accuracy: 0.8220\n"
          ]
        }
      ]
    },
    {
      "cell_type": "code",
      "source": [
        "from tensorflow.keras.callbacks import ReduceLROnPlateau\n",
        "\n",
        "reduce_lr = ReduceLROnPlateau(monitor='val_loss', factor=0.2, patience=5, min_lr=0.001)\n",
        "\n",
        "history = model.fit(x_train, y_train,\n",
        "                    epochs=10,\n",
        "                    batch_size=128,\n",
        "                    validation_split=0.2,\n",
        "                    callbacks=[reduce_lr])\n"
      ],
      "metadata": {
        "colab": {
          "base_uri": "https://localhost:8080/"
        },
        "id": "1y7oYH_U3Wnp",
        "outputId": "b74beb59-92e0-42c6-a118-ab24a64f89af"
      },
      "execution_count": 13,
      "outputs": [
        {
          "output_type": "stream",
          "name": "stdout",
          "text": [
            "Epoch 1/10\n",
            "157/157 [==============================] - 29s 183ms/step - loss: 0.1971 - accuracy: 0.9220 - val_loss: 0.4980 - val_accuracy: 0.8242 - lr: 0.0010\n",
            "Epoch 2/10\n",
            "157/157 [==============================] - 23s 144ms/step - loss: 0.1921 - accuracy: 0.9299 - val_loss: 0.5388 - val_accuracy: 0.7888 - lr: 0.0010\n",
            "Epoch 3/10\n",
            "157/157 [==============================] - 24s 152ms/step - loss: 0.2081 - accuracy: 0.9191 - val_loss: 0.5413 - val_accuracy: 0.7844 - lr: 0.0010\n",
            "Epoch 4/10\n",
            "157/157 [==============================] - 24s 156ms/step - loss: 0.1451 - accuracy: 0.9471 - val_loss: 0.4578 - val_accuracy: 0.8292 - lr: 0.0010\n",
            "Epoch 5/10\n",
            "157/157 [==============================] - 24s 151ms/step - loss: 0.0802 - accuracy: 0.9746 - val_loss: 0.5153 - val_accuracy: 0.8262 - lr: 0.0010\n",
            "Epoch 6/10\n",
            "157/157 [==============================] - 24s 152ms/step - loss: 0.0491 - accuracy: 0.9868 - val_loss: 0.5555 - val_accuracy: 0.8268 - lr: 0.0010\n",
            "Epoch 7/10\n",
            "157/157 [==============================] - 24s 151ms/step - loss: 0.0380 - accuracy: 0.9907 - val_loss: 0.5870 - val_accuracy: 0.8268 - lr: 0.0010\n",
            "Epoch 8/10\n",
            "157/157 [==============================] - 23s 148ms/step - loss: 0.0308 - accuracy: 0.9932 - val_loss: 0.6534 - val_accuracy: 0.8294 - lr: 0.0010\n",
            "Epoch 9/10\n",
            "157/157 [==============================] - 22s 143ms/step - loss: 0.0232 - accuracy: 0.9952 - val_loss: 0.6860 - val_accuracy: 0.8312 - lr: 0.0010\n",
            "Epoch 10/10\n",
            "157/157 [==============================] - 23s 150ms/step - loss: 0.0124 - accuracy: 0.9981 - val_loss: 0.7318 - val_accuracy: 0.8248 - lr: 0.0010\n"
          ]
        }
      ]
    },
    {
      "cell_type": "code",
      "source": [
        "import matplotlib.pyplot as plt\n",
        "\n",
        "plt.plot(history.history['accuracy'], label='Training accuracy')\n",
        "plt.plot(history.history['val_accuracy'], label='Validation accuracy')\n",
        "plt.title('Model accuracy')\n",
        "plt.ylabel('Accuracy')\n",
        "plt.xlabel('Epoch')\n",
        "plt.legend(['Train', 'Val'], loc='upper left')\n",
        "plt.show()\n"
      ],
      "metadata": {
        "colab": {
          "base_uri": "https://localhost:8080/",
          "height": 472
        },
        "id": "Fqshcc4c3Xba",
        "outputId": "ebb46260-f5f0-44a1-d218-015202555bbd"
      },
      "execution_count": 14,
      "outputs": [
        {
          "output_type": "display_data",
          "data": {
            "text/plain": [
              "<Figure size 640x480 with 1 Axes>"
            ],
            "image/png": "[encoded data removed]"
          },
          "metadata": {}
        }
      ]
    },
    {
      "cell_type": "code",
      "source": [],
      "metadata": {
        "id": "tkafEgdy8PYh"
      },
      "execution_count": null,
      "outputs": []
    }
  ]
}